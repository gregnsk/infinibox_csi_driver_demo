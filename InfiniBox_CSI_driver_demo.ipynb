{
 "cells": [
  {
   "cell_type": "markdown",
   "metadata": {},
   "source": [
    "<H1> InfiniBox CSI driver demo </H1>\n",
    "Contact: Gregory Touretsky, @gregnsk"
   ]
  },
  {
   "cell_type": "markdown",
   "metadata": {},
   "source": [
    "<H2> Install the driver using OpenShift Operator </H2>\n",
    "<img src=https://github.com/gregnsk/infinibox_csi_driver_demo/blob/master/openshift-operator.png?raw=true width=50%>"
   ]
  },
  {
   "cell_type": "markdown",
   "metadata": {},
   "source": [
    "<B>Notes</B>\n",
    "<li>Infinidat CSI driver is supported starting from Kubernetes 1.14 (OpenShift 4.2)\n",
    "<li>For earlier versions, customers may use Infinidat Dynamic Provisioner for Kubernetes (supported since Kubernetes 1.6)\n",
    "<li>Kubernetes versions prior to 1.17 (OpenShift 4.4): some of CSI features like snapshots, clones, or raw block volumes might not be supported or enabled by default. Refer to relevant documentation for more details on feature-gate enablement\n",
    "<li>Examples in this document use kubectl command, the same commands will work with OpenShift \"oc\" interface\n",
    "<li>Infinidat CSI driver can be installed using Helm Chart or OpenShift Operator"
   ]
  },
  {
   "cell_type": "code",
   "execution_count": 88,
   "metadata": {},
   "outputs": [
    {
     "name": "stdout",
     "output_type": "stream",
     "text": [
      "NAME          STATUS   ROLES    AGE   VERSION\n",
      "gtouret-k51   Ready    master   44d   v1.18.0\n",
      "gtouret-k52   Ready    <none>   44d   v1.18.0\n",
      "io307         Ready    <none>   44d   v1.18.0\n"
     ]
    }
   ],
   "source": [
    "kubectl get nodes"
   ]
  },
  {
   "cell_type": "code",
   "execution_count": 89,
   "metadata": {},
   "outputs": [
    {
     "name": "stdout",
     "output_type": "stream",
     "text": [
      "NAME                       READY   STATUS    RESTARTS   AGE   IP              NODE          NOMINATED NODE   READINESS GATES\n",
      "csi-infinibox-driver-0     5/5     Running   0          25d   10.244.2.55     io307         <none>           <none>\n",
      "csi-infinibox-node-85g4t   2/2     Running   0          25d   172.20.87.214   gtouret-k51   <none>           <none>\n",
      "csi-infinibox-node-jw9hx   2/2     Running   0          25d   172.20.87.99    gtouret-k52   <none>           <none>\n",
      "csi-infinibox-node-qspr4   2/2     Running   0          25d   172.20.78.63    io307         <none>           <none>\n"
     ]
    }
   ],
   "source": [
    "# We recommend to install CSI driver in a dedicated namespace. Here it's running in a namespace \"ibox\"\n",
    "# There is a single Controller (csi-infinibox-driver) instance per cluster \n",
    "# and a single Node (csi-infinibox-node) instance per worker node \n",
    "kubectl get pod -n ibox -o wide"
   ]
  },
  {
   "cell_type": "code",
   "execution_count": 90,
   "metadata": {},
   "outputs": [
    {
     "name": "stdout",
     "output_type": "stream",
     "text": [
      "\n",
      "\n",
      "No resources found.\n"
     ]
    }
   ],
   "source": [
    "# In this demo PVCs and pods will be created in a namespace \"demo\"\n",
    "# At the beginning of the demo this namespace is empty\n",
    "kubectl get pvc,volumesnapshot,pod -n demo"
   ]
  },
  {
   "cell_type": "markdown",
   "metadata": {},
   "source": [
    "<H2>Create a storage class <H2>"
   ]
  },
  {
   "cell_type": "code",
   "execution_count": 91,
   "metadata": {},
   "outputs": [
    {
     "name": "stdout",
     "output_type": "stream",
     "text": [
      "apiVersion: storage.k8s.io/v1\n",
      "kind: StorageClass\n",
      "metadata:\n",
      "  name: ibox-nfs-storageclass-demo\n",
      "provisioner: infinibox-csi-driver\n",
      "reclaimPolicy: Delete\n",
      "volumeBindingMode: Immediate\n",
      "allowVolumeExpansion: true\n",
      "parameters:\n",
      "    pool_name: k8s_csi\n",
      "    network_space: nas1\n",
      "    provision_type: THIN    \n",
      "    storage_protocol: nfs   \n",
      "    nfs_mount_options: hard,rsize=1048576,wsize=1048576\n",
      "    nfs_export_permissions : \"[{'access':'RW','client':'172.20.1.1-172.20.255.255','no_root_squash':true}]\"\n",
      "    ssd_enabled: \"true\"\n",
      "    csi.storage.k8s.io/provisioner-secret-name: infinibox-creds\n",
      "    csi.storage.k8s.io/provisioner-secret-namespace: ibox\n",
      "    csi.storage.k8s.io/controller-publish-secret-name: infinibox-creds\n",
      "    csi.storage.k8s.io/controller-publish-secret-namespace: ibox\n",
      "    csi.storage.k8s.io/node-stage-secret-name: infinibox-creds\n",
      "    csi.storage.k8s.io/node-stage-secret-namespace: ibox\n",
      "    csi.storage.k8s.io/node-publish-secret-name: infinibox-creds\n",
      "    csi.storage.k8s.io/node-publish-secret-namespace: ibox\n",
      "    csi.storage.k8s.io/controller-expand-secret-name: infinibox-creds\n",
      "    csi.storage.k8s.io/controller-expand-secret-namespace: ibox\n"
     ]
    }
   ],
   "source": [
    "cat nfs/storageclass.yaml"
   ]
  },
  {
   "cell_type": "code",
   "execution_count": 92,
   "metadata": {},
   "outputs": [
    {
     "name": "stdout",
     "output_type": "stream",
     "text": [
      "Executing pool.query name=k8s_csi --columns=name,virtual_total,physical_total on ibox2811...\n",
      "NAME                         VIRTUAL TOTAL        PHYSICAL TOTAL\n",
      "k8s_csi                          200.00 TB               1.00 TB\n",
      "Executing config.net_space.query net_space=nas1 on ibox2811...\n",
      "NAME  SERVICE  NETWORK         MTU   RATE LIMIT  GATEWAY        IPS  INTERFACES\n",
      "nas1  NAS      172.20.32.0/19  9000           -  172.20.63.254  3    pg_data1  \n",
      "Executing config.net_space.ip.query net_space=nas1 on ibox2811...\n",
      "NETWORK SPACE  IP ADDRESS    ENABLED  NODE  NETWORK INTERFACE  TYPE\n",
      "nas1           172.20.37.53  yes      1     pg_data1           NAS \n",
      "nas1           172.20.37.56  yes      2     pg_data1           NAS \n",
      "nas1           172.20.37.58  yes      3     pg_data1           NAS \n"
     ]
    }
   ],
   "source": [
    "# Storage class defines InfiniBox pool for all PVs, NFS netspace nas1 and some other parameters\n",
    "# Use infinishell to query pool details\n",
    "./infinishell pool.query name=k8s_csi --columns=name,virtual_total,physical_total\n",
    "# Use infinishell to query netspace details\n",
    "./infinishell config.net_space.query net_space=nas1\n",
    "./infinishell config.net_space.ip.query net_space=nas1"
   ]
  },
  {
   "cell_type": "code",
   "execution_count": 93,
   "metadata": {},
   "outputs": [
    {
     "name": "stdout",
     "output_type": "stream",
     "text": [
      "storageclass.storage.k8s.io/ibox-nfs-storageclass-demo created\n"
     ]
    }
   ],
   "source": [
    "kubectl create -f nfs/storageclass.yaml"
   ]
  },
  {
   "cell_type": "code",
   "execution_count": 94,
   "metadata": {},
   "outputs": [
    {
     "name": "stdout",
     "output_type": "stream",
     "text": [
      "NAME                         PROVISIONER            RECLAIMPOLICY   VOLUMEBINDINGMODE   ALLOWVOLUMEEXPANSION   AGE\n",
      "ibox-nfs-storageclass-demo   infinibox-csi-driver   Delete          Immediate           true                   2s\n"
     ]
    }
   ],
   "source": [
    "kubectl get sc ibox-nfs-storageclass-demo"
   ]
  },
  {
   "cell_type": "markdown",
   "metadata": {},
   "source": [
    "<H2> Create a Persistent Volume Claim (PVC) </H2>"
   ]
  },
  {
   "cell_type": "code",
   "execution_count": 95,
   "metadata": {},
   "outputs": [
    {
     "name": "stdout",
     "output_type": "stream",
     "text": [
      "apiVersion: v1\n",
      "kind: PersistentVolumeClaim\n",
      "metadata:\n",
      "  name: ibox-pvc-demo\n",
      "  namespace: demo\n",
      "spec:\n",
      "  accessModes:\n",
      "  - ReadWriteMany\n",
      "  resources:\n",
      "    requests:\n",
      "      storage: 1Gi\n",
      "  storageClassName: ibox-nfs-storageclass-demo\n"
     ]
    }
   ],
   "source": [
    "cat nfs/pvc.yaml"
   ]
  },
  {
   "cell_type": "code",
   "execution_count": 96,
   "metadata": {},
   "outputs": [
    {
     "name": "stdout",
     "output_type": "stream",
     "text": [
      "persistentvolumeclaim/ibox-pvc-demo created\n"
     ]
    }
   ],
   "source": [
    "kubectl create -f nfs/pvc.yaml"
   ]
  },
  {
   "cell_type": "code",
   "execution_count": 97,
   "metadata": {},
   "outputs": [
    {
     "name": "stdout",
     "output_type": "stream",
     "text": [
      "NAME            STATUS   VOLUME           CAPACITY   ACCESS MODES   STORAGECLASS                 AGE\n",
      "ibox-pvc-demo   Bound    csi-0a88785e41   1Gi        RWX            ibox-nfs-storageclass-demo   4s\n"
     ]
    }
   ],
   "source": [
    "kubectl get pvc ibox-pvc-demo -n demo"
   ]
  },
  {
   "cell_type": "code",
   "execution_count": 98,
   "metadata": {},
   "outputs": [
    {
     "name": "stdout",
     "output_type": "stream",
     "text": [
      "NAME             CAPACITY   ACCESS MODES   RECLAIM POLICY   STATUS   CLAIM                STORAGECLASS                 REASON   AGE\n",
      "csi-0a88785e41   1Gi        RWX            Delete           Bound    demo/ibox-pvc-demo   ibox-nfs-storageclass-demo            9s\n"
     ]
    }
   ],
   "source": [
    "PV=`kubectl get pvc ibox-pvc-demo -n demo | grep ibox-pvc-demo | awk '{print $3}'`\n",
    "kubectl get pv $PV"
   ]
  },
  {
   "cell_type": "code",
   "execution_count": 99,
   "metadata": {},
   "outputs": [
    {
     "name": "stdout",
     "output_type": "stream",
     "text": [
      "Executing fs.query name=csi-0a88785e41 --columns=name,size,used,pool,data_reduction on ibox2811...\n",
      "NAME                                  SIZE                  USED  POOL        DATA REDUCTION\n",
      "csi-0a88785e41                     1.07 GB               1.63 MB  k8s_csi          16.00 : 1\n"
     ]
    }
   ],
   "source": [
    "# Use infinishell to query InfiniBox filesystem details\n",
    "./infinishell fs.query name=$PV --columns=name,size,used,pool,data_reduction"
   ]
  },
  {
   "cell_type": "markdown",
   "metadata": {},
   "source": [
    "<H2> Create a snapshot class </H2>"
   ]
  },
  {
   "cell_type": "code",
   "execution_count": 100,
   "metadata": {},
   "outputs": [
    {
     "name": "stdout",
     "output_type": "stream",
     "text": [
      "apiVersion: snapshot.storage.k8s.io/v1alpha1\n",
      "kind: VolumeSnapshotClass\n",
      "metadata:\n",
      "  name: ibox-snapshotclass-demo\n",
      "snapshotter: infinibox-csi-driver\n",
      "parameters:\n",
      "  csi.storage.k8s.io/snapshotter-secret-name: infinibox-creds\n",
      "  csi.storage.k8s.io/snapshotter-secret-namespace: ibox\n",
      "\n"
     ]
    }
   ],
   "source": [
    "cat nfs/snapshotclass.yaml"
   ]
  },
  {
   "cell_type": "code",
   "execution_count": 101,
   "metadata": {},
   "outputs": [
    {
     "name": "stdout",
     "output_type": "stream",
     "text": [
      "volumesnapshotclass.snapshot.storage.k8s.io/ibox-snapshotclass-demo created\n"
     ]
    }
   ],
   "source": [
    "kubectl create -f nfs/snapshotclass.yaml"
   ]
  },
  {
   "cell_type": "code",
   "execution_count": 102,
   "metadata": {},
   "outputs": [
    {
     "name": "stdout",
     "output_type": "stream",
     "text": [
      "NAME                      AGE\n",
      "ibox-snapshotclass-demo   2s\n"
     ]
    }
   ],
   "source": [
    "kubectl get volumesnapshotclass"
   ]
  },
  {
   "cell_type": "markdown",
   "metadata": {},
   "source": [
    "<H2> Create a snapshot </H2>"
   ]
  },
  {
   "cell_type": "code",
   "execution_count": 103,
   "metadata": {},
   "outputs": [
    {
     "name": "stdout",
     "output_type": "stream",
     "text": [
      "apiVersion: snapshot.storage.k8s.io/v1alpha1\n",
      "kind: VolumeSnapshot\n",
      "metadata:\n",
      "  name: ibox-pvc-snapshot-demo\n",
      "  namespace: demo\n",
      "spec:\n",
      "  snapshotClassName: ibox-snapshotclass-demo\n",
      "  source:\n",
      "    name: ibox-pvc-demo\n",
      "    kind: PersistentVolumeClaim\n",
      "\n"
     ]
    }
   ],
   "source": [
    "cat nfs/snapshot.yaml"
   ]
  },
  {
   "cell_type": "code",
   "execution_count": 104,
   "metadata": {},
   "outputs": [
    {
     "name": "stdout",
     "output_type": "stream",
     "text": [
      "volumesnapshot.snapshot.storage.k8s.io/ibox-pvc-snapshot-demo created\n"
     ]
    }
   ],
   "source": [
    "kubectl create -f nfs/snapshot.yaml"
   ]
  },
  {
   "cell_type": "code",
   "execution_count": 105,
   "metadata": {},
   "outputs": [
    {
     "name": "stdout",
     "output_type": "stream",
     "text": [
      "NAME                     AGE\n",
      "ibox-pvc-snapshot-demo   4s\n"
     ]
    }
   ],
   "source": [
    "kubectl get volumesnapshot ibox-pvc-snapshot-demo -n demo"
   ]
  },
  {
   "cell_type": "code",
   "execution_count": 106,
   "metadata": {},
   "outputs": [
    {
     "name": "stdout",
     "output_type": "stream",
     "text": [
      "  Snapshot Content Name:  snapcontent-24ed6d14-8c7b-4137-a2c5-de8765775978\n"
     ]
    }
   ],
   "source": [
    "kubectl describe volumesnapshot ibox-pvc-snapshot-demo  -n demo | grep snapcontent"
   ]
  },
  {
   "cell_type": "code",
   "execution_count": 107,
   "metadata": {},
   "outputs": [
    {
     "name": "stdout",
     "output_type": "stream",
     "text": [
      "NAME                                               AGE\n",
      "snapcontent-24ed6d14-8c7b-4137-a2c5-de8765775978   16s\n"
     ]
    }
   ],
   "source": [
    "VSC=`kubectl describe volumesnapshot ibox-pvc-snapshot-demo  -n demo | grep snapcontent | awk '{print $4}'`\n",
    "kubectl get volumesnapshotcontent $VSC"
   ]
  },
  {
   "cell_type": "code",
   "execution_count": 108,
   "metadata": {},
   "outputs": [
    {
     "name": "stdout",
     "output_type": "stream",
     "text": [
      "Executing fs.snap.query name=csi-24ed6d148c --columns=name,size,allocated,wp,pool on ibox2811...\n",
      "NAME                                  SIZE             ALLOCATED  WP   POOL      \n",
      "csi-24ed6d148c                     1.07 GB               4.09 KB  yes  k8s_csi   \n"
     ]
    }
   ],
   "source": [
    "# Use infinishell to query InfiniBox snapshot details. Snapshot name is part of the snapcontent ID\n",
    "SNAP=`echo $VSC | cut -b1-23 | sed 's/-//g' | sed 's/snapcontent/csi-/'`\n",
    "\n",
    "./infinishell fs.snap.query name=$SNAP --columns=name,size,allocated,wp,pool"
   ]
  },
  {
   "cell_type": "markdown",
   "metadata": {},
   "source": [
    "<H2> Create a new PVC from the snapshot (restore) </H2>"
   ]
  },
  {
   "cell_type": "code",
   "execution_count": 109,
   "metadata": {},
   "outputs": [
    {
     "name": "stdout",
     "output_type": "stream",
     "text": [
      "apiVersion: v1\n",
      "kind: PersistentVolumeClaim\n",
      "metadata:\n",
      "  name: ibox-snapshot-pvc-restore-demo\n",
      "  namespace: demo\n",
      "spec:\n",
      "  storageClassName: ibox-nfs-storageclass-demo\n",
      "  dataSource:\n",
      "    name: ibox-pvc-snapshot-demo\n",
      "    kind: VolumeSnapshot\n",
      "    apiGroup: \"snapshot.storage.k8s.io\"\n",
      "  accessModes:\n",
      "    - ReadWriteMany\n",
      "  resources:\n",
      "    requests:\n",
      "      storage: 1Gi\n",
      "\n"
     ]
    }
   ],
   "source": [
    "cat nfs/restoresnapshot.yaml"
   ]
  },
  {
   "cell_type": "code",
   "execution_count": 110,
   "metadata": {},
   "outputs": [
    {
     "name": "stdout",
     "output_type": "stream",
     "text": [
      "persistentvolumeclaim/ibox-snapshot-pvc-restore-demo created\n"
     ]
    }
   ],
   "source": [
    "kubectl create -f nfs/restoresnapshot.yaml"
   ]
  },
  {
   "cell_type": "code",
   "execution_count": 111,
   "metadata": {},
   "outputs": [
    {
     "name": "stdout",
     "output_type": "stream",
     "text": [
      "NAME                             STATUS   VOLUME           CAPACITY   ACCESS MODES   STORAGECLASS                 AGE\n",
      "ibox-snapshot-pvc-restore-demo   Bound    csi-0472a03a96   1Gi        RWX            ibox-nfs-storageclass-demo   4s\n"
     ]
    }
   ],
   "source": [
    "kubectl get pvc ibox-snapshot-pvc-restore-demo -n demo"
   ]
  },
  {
   "cell_type": "code",
   "execution_count": 112,
   "metadata": {},
   "outputs": [
    {
     "name": "stdout",
     "output_type": "stream",
     "text": [
      "Executing fs.snap.query name=csi-0472a03a96 --columns=name,size,allocated,wp,pool on ibox2811...\n",
      "NAME                                  SIZE             ALLOCATED  WP   POOL      \n",
      "csi-0472a03a96                     1.07 GB               4.09 KB  no   k8s_csi   \n"
     ]
    }
   ],
   "source": [
    "# Use infinishell to query restore dataset details on Infinibox\n",
    "RESTORE=`kubectl get pvc ibox-snapshot-pvc-restore-demo -n demo | grep ibox-snapshot-pvc-restore-demo| awk '{print $3}'`\n",
    "./infinishell fs.snap.query name=$RESTORE --columns=name,size,allocated,wp,pool"
   ]
  },
  {
   "cell_type": "markdown",
   "metadata": {},
   "source": [
    "<H2> Create a new PVC from the existing PVC (clone) </H2>"
   ]
  },
  {
   "cell_type": "code",
   "execution_count": 113,
   "metadata": {},
   "outputs": [
    {
     "name": "stdout",
     "output_type": "stream",
     "text": [
      "apiVersion: v1\n",
      "kind: PersistentVolumeClaim\n",
      "metadata:\n",
      "    name: ibox-pvc-clone-demo\n",
      "    namespace: demo\n",
      "spec:\n",
      "  accessModes:\n",
      "  - ReadWriteOnce\n",
      "  storageClassName: ibox-nfs-storageclass-demo\n",
      "  resources:\n",
      "    requests:\n",
      "      storage: 1Gi\n",
      "  dataSource:\n",
      "    kind: PersistentVolumeClaim\n",
      "    name: ibox-pvc-demo\n"
     ]
    }
   ],
   "source": [
    "cat nfs/clonepvc.yaml"
   ]
  },
  {
   "cell_type": "code",
   "execution_count": 114,
   "metadata": {},
   "outputs": [
    {
     "name": "stdout",
     "output_type": "stream",
     "text": [
      "persistentvolumeclaim/ibox-pvc-clone-demo created\n"
     ]
    }
   ],
   "source": [
    "kubectl create -f nfs/clonepvc.yaml"
   ]
  },
  {
   "cell_type": "code",
   "execution_count": 115,
   "metadata": {},
   "outputs": [
    {
     "name": "stdout",
     "output_type": "stream",
     "text": [
      "NAME                  STATUS   VOLUME           CAPACITY   ACCESS MODES   STORAGECLASS                 AGE\n",
      "ibox-pvc-clone-demo   Bound    csi-7c81e147af   1Gi        RWO            ibox-nfs-storageclass-demo   2s\n"
     ]
    }
   ],
   "source": [
    "kubectl get pvc ibox-pvc-clone-demo -n demo"
   ]
  },
  {
   "cell_type": "code",
   "execution_count": 116,
   "metadata": {},
   "outputs": [
    {
     "name": "stdout",
     "output_type": "stream",
     "text": [
      "Executing fs.snap.query name=csi-7c81e147af --columns=name,size,allocated,wp,pool on ibox2811...\n",
      "NAME                                  SIZE             ALLOCATED  WP   POOL      \n",
      "csi-7c81e147af                     1.07 GB               4.09 KB  no   k8s_csi   \n"
     ]
    }
   ],
   "source": [
    "# Use infinishell to query clone dataset details on Infinibox\n",
    "CLONE=`kubectl get pvc ibox-pvc-clone-demo -n demo | grep ibox-pvc-clone-demo| awk '{print $3}'`\n",
    "./infinishell fs.snap.query name=$CLONE --columns=name,size,allocated,wp,pool"
   ]
  },
  {
   "cell_type": "markdown",
   "metadata": {},
   "source": [
    "<H2> Create a pod with a PVC attached </H2>"
   ]
  },
  {
   "cell_type": "code",
   "execution_count": 117,
   "metadata": {},
   "outputs": [
    {
     "name": "stdout",
     "output_type": "stream",
     "text": [
      "kind: Pod\n",
      "apiVersion: v1\n",
      "metadata:\n",
      "  name: ibox-pod-pvc-demo\n",
      "  namespace: demo\n",
      "spec:\n",
      "  containers:\n",
      "    - name: my-frontend\n",
      "      image: busybox\n",
      "      volumeMounts:\n",
      "      - mountPath: \"/tmp/data\"\n",
      "        name: ibox-csi-volume\n",
      "      command: [ \"sleep\", \"1000\" ]\n",
      "  volumes:\n",
      "    - name: ibox-csi-volume\n",
      "      persistentVolumeClaim:\n",
      "        claimName: ibox-pvc-demo\n"
     ]
    }
   ],
   "source": [
    "cat nfs/app.yaml"
   ]
  },
  {
   "cell_type": "code",
   "execution_count": 118,
   "metadata": {},
   "outputs": [
    {
     "name": "stdout",
     "output_type": "stream",
     "text": [
      "pod/ibox-pod-pvc-demo created\n"
     ]
    }
   ],
   "source": [
    "kubectl create -f nfs/app.yaml"
   ]
  },
  {
   "cell_type": "code",
   "execution_count": 120,
   "metadata": {},
   "outputs": [
    {
     "name": "stdout",
     "output_type": "stream",
     "text": [
      "NAME                READY   STATUS    RESTARTS   AGE\n",
      "ibox-pod-pvc-demo   1/1     Running   0          20s\n"
     ]
    }
   ],
   "source": [
    "kubectl get pod ibox-pod-pvc-demo -n demo"
   ]
  },
  {
   "cell_type": "code",
   "execution_count": 121,
   "metadata": {},
   "outputs": [
    {
     "name": "stdout",
     "output_type": "stream",
     "text": [
      "Filesystem                Size      Used Available Use% Mounted on\n",
      "172.20.37.58:/csi-0a88785e41\n",
      "                          1.0G      1.0M   1023.0M   0% /tmp/data\n"
     ]
    }
   ],
   "source": [
    "kubectl exec -it ibox-pod-pvc-demo -n demo -- df -h /tmp/data"
   ]
  },
  {
   "cell_type": "markdown",
   "metadata": {},
   "source": [
    "<H2>Deploying mySQL server with Helm using InfiniBox CSI driver for iSCSI</H2>"
   ]
  },
  {
   "cell_type": "code",
   "execution_count": 122,
   "metadata": {},
   "outputs": [
    {
     "name": "stdout",
     "output_type": "stream",
     "text": [
      "apiVersion: storage.k8s.io/v1\n",
      "kind: StorageClass\n",
      "metadata:\n",
      "  name: ibox-iscsi-storageclass-demo\n",
      "provisioner: infinibox-csi-driver\n",
      "reclaimPolicy: Delete\n",
      "volumeBindingMode: Immediate\n",
      "allowVolumeExpansion: true\n",
      "parameters:\n",
      "  csi.storage.k8s.io/provisioner-secret-name: infinibox-creds\n",
      "  csi.storage.k8s.io/provisioner-secret-namespace: ibox\n",
      "  csi.storage.k8s.io/controller-publish-secret-name: infinibox-creds\n",
      "  csi.storage.k8s.io/controller-publish-secret-namespace: ibox\n",
      "  csi.storage.k8s.io/node-stage-secret-name: infinibox-creds\n",
      "  csi.storage.k8s.io/node-stage-secret-namespace: ibox\n",
      "  csi.storage.k8s.io/node-publish-secret-name: infinibox-creds\n",
      "  csi.storage.k8s.io/node-publish-secret-namespace: ibox\n",
      "  csi.storage.k8s.io/controller-expand-secret-name: infinibox-creds\n",
      "  csi.storage.k8s.io/controller-expand-secret-namespace: ibox\n",
      "  useCHAP: \"mutual_chap\" # none / chap / mutual_chap\n",
      "  fstype: ext4\n",
      "  pool_name: \"k8s_csi\"\n",
      "  network_space: \"iscsi1\"\n",
      "  provision_type: \"THIN\"\n",
      "  storage_protocol: \"iscsi\"\n",
      "  ssd_enabled: \"true\"\n",
      "  max_vols_per_host: \"50\"\n"
     ]
    }
   ],
   "source": [
    "cat iscsi/storageclass.yaml"
   ]
  },
  {
   "cell_type": "code",
   "execution_count": 123,
   "metadata": {},
   "outputs": [
    {
     "name": "stdout",
     "output_type": "stream",
     "text": [
      "storageclass.storage.k8s.io/ibox-iscsi-storageclass-demo created\n"
     ]
    }
   ],
   "source": [
    "kubectl create -f iscsi/storageclass.yaml"
   ]
  },
  {
   "cell_type": "code",
   "execution_count": 124,
   "metadata": {},
   "outputs": [
    {
     "name": "stdout",
     "output_type": "stream",
     "text": [
      "NAME: mysqldemo\n",
      "LAST DEPLOYED: Mon May 18 14:23:34 2020\n",
      "NAMESPACE: default\n",
      "STATUS: deployed\n",
      "REVISION: 1\n",
      "NOTES:\n",
      "MySQL can be accessed via port 3306 on the following DNS name from within your cluster:\n",
      "mysqldemo.default.svc.cluster.local\n",
      "\n",
      "To get your root password run:\n",
      "\n",
      "    MYSQL_ROOT_PASSWORD=$(kubectl get secret --namespace default mysqldemo -o jsonpath=\"{.data.mysql-root-password}\" | base64 --decode; echo)\n",
      "\n",
      "To connect to your database:\n",
      "\n",
      "1. Run an Ubuntu pod that you can use as a client:\n",
      "\n",
      "    kubectl run -i --tty ubuntu --image=ubuntu:16.04 --restart=Never -- bash -il\n",
      "\n",
      "2. Install the mysql client:\n",
      "\n",
      "    $ apt-get update && apt-get install mysql-client -y\n",
      "\n",
      "3. Connect using the mysql cli, then provide your password:\n",
      "    $ mysql -h mysqldemo -p\n",
      "\n",
      "To connect to your database directly from outside the K8s cluster:\n",
      "    MYSQL_HOST=127.0.0.1\n",
      "    MYSQL_PORT=3306\n",
      "\n",
      "    # Execute the following command to route the connection:\n",
      "    kubectl port-forward svc/mysqldemo 3306\n",
      "\n",
      "    mysql -h ${MYSQL_HOST} -P${MYSQL_PORT} -u root -p${MYSQL_ROOT_PASSWORD}\n"
     ]
    }
   ],
   "source": [
    "helm install mysqldemo --set persistence.storageClass=ibox-iscsi-storageclass-demo,nodeSelector.protocol=iscsi stable/mysql"
   ]
  },
  {
   "cell_type": "code",
   "execution_count": 125,
   "metadata": {},
   "outputs": [
    {
     "name": "stdout",
     "output_type": "stream",
     "text": [
      "NAME        READY   UP-TO-DATE   AVAILABLE   AGE\n",
      "mysqldemo   1/1     1            1           62s\n"
     ]
    }
   ],
   "source": [
    "kubectl get deployment mysqldemo"
   ]
  },
  {
   "cell_type": "code",
   "execution_count": 126,
   "metadata": {},
   "outputs": [
    {
     "name": "stdout",
     "output_type": "stream",
     "text": [
      "NAME        STATUS   VOLUME           CAPACITY   ACCESS MODES   STORAGECLASS                   AGE\n",
      "mysqldemo   Bound    csi-327885dafc   8Gi        RWO            ibox-iscsi-storageclass-demo   66s\n"
     ]
    }
   ],
   "source": [
    "kubectl get pvc mysqldemo"
   ]
  },
  {
   "cell_type": "code",
   "execution_count": 127,
   "metadata": {},
   "outputs": [
    {
     "name": "stdout",
     "output_type": "stream",
     "text": [
      "Filesystem          1K-blocks   Used Available Use% Mounted on\n",
      "/dev/mapper/mpathdq   8191416 251852   7923180   4% /var/lib/mysql\n"
     ]
    }
   ],
   "source": [
    "POD=`kubectl get pod | grep mysqldemo | awk '{print $1}'`\n",
    "kubectl exec -it $POD -- df /var/lib/mysql"
   ]
  },
  {
   "cell_type": "code",
   "execution_count": 128,
   "metadata": {},
   "outputs": [
    {
     "name": "stdout",
     "output_type": "stream",
     "text": [
      "Executing vol.query vol=csi-327885dafc --columns=name,size,used,pool,data_reduction on ibox2811...\n",
      "NAME                                  SIZE                  USED  POOL        DATA REDUCTION\n",
      "csi-327885dafc                     8.59 GB             316.40 MB  k8s_csi           3.67 : 1\n"
     ]
    }
   ],
   "source": [
    "# Use infinishell to query InfiniBox volume details\n",
    "VOL=`kubectl get pvc mysqldemo | grep mysqldemo | awk '{print $3}'`\n",
    "./infinishell vol.query vol=$VOL --columns=name,size,used,pool,data_reduction"
   ]
  },
  {
   "cell_type": "markdown",
   "metadata": {},
   "source": [
    "<H2> Clean everything </H2>"
   ]
  },
  {
   "cell_type": "code",
   "execution_count": 129,
   "metadata": {},
   "outputs": [
    {
     "name": "stdout",
     "output_type": "stream",
     "text": [
      "release \"mysqldemo\" uninstalled\n"
     ]
    }
   ],
   "source": [
    "helm uninstall mysqldemo"
   ]
  },
  {
   "cell_type": "code",
   "execution_count": 130,
   "metadata": {},
   "outputs": [
    {
     "name": "stdout",
     "output_type": "stream",
     "text": [
      "pod \"ibox-pod-pvc-demo\" deleted\n"
     ]
    }
   ],
   "source": [
    "kubectl delete -f nfs/app.yaml"
   ]
  },
  {
   "cell_type": "code",
   "execution_count": 131,
   "metadata": {},
   "outputs": [
    {
     "name": "stdout",
     "output_type": "stream",
     "text": [
      "persistentvolumeclaim \"ibox-pvc-clone-demo\" deleted\n"
     ]
    }
   ],
   "source": [
    "kubectl delete -f nfs/clonepvc.yaml"
   ]
  },
  {
   "cell_type": "code",
   "execution_count": 132,
   "metadata": {},
   "outputs": [
    {
     "name": "stdout",
     "output_type": "stream",
     "text": [
      "persistentvolumeclaim \"ibox-snapshot-pvc-restore-demo\" deleted\n"
     ]
    }
   ],
   "source": [
    "kubectl delete -f nfs/restoresnapshot.yaml"
   ]
  },
  {
   "cell_type": "code",
   "execution_count": 133,
   "metadata": {},
   "outputs": [
    {
     "name": "stdout",
     "output_type": "stream",
     "text": [
      "volumesnapshot.snapshot.storage.k8s.io \"ibox-pvc-snapshot-demo\" deleted\n"
     ]
    }
   ],
   "source": [
    "kubectl delete -f nfs/snapshot.yaml"
   ]
  },
  {
   "cell_type": "code",
   "execution_count": 134,
   "metadata": {},
   "outputs": [
    {
     "name": "stdout",
     "output_type": "stream",
     "text": [
      "volumesnapshotclass.snapshot.storage.k8s.io \"ibox-snapshotclass-demo\" deleted\n"
     ]
    }
   ],
   "source": [
    "kubectl delete -f nfs/snapshotclass.yaml"
   ]
  },
  {
   "cell_type": "code",
   "execution_count": 135,
   "metadata": {},
   "outputs": [
    {
     "name": "stdout",
     "output_type": "stream",
     "text": [
      "persistentvolumeclaim \"ibox-pvc-demo\" deleted\n"
     ]
    }
   ],
   "source": [
    "kubectl delete -f nfs/pvc.yaml"
   ]
  },
  {
   "cell_type": "code",
   "execution_count": 136,
   "metadata": {},
   "outputs": [
    {
     "name": "stdout",
     "output_type": "stream",
     "text": [
      "storageclass.storage.k8s.io \"ibox-nfs-storageclass-demo\" deleted\n"
     ]
    }
   ],
   "source": [
    "kubectl delete -f nfs/storageclass.yaml"
   ]
  },
  {
   "cell_type": "code",
   "execution_count": 137,
   "metadata": {},
   "outputs": [
    {
     "name": "stdout",
     "output_type": "stream",
     "text": [
      "storageclass.storage.k8s.io \"ibox-iscsi-storageclass-demo\" deleted\n"
     ]
    }
   ],
   "source": [
    "kubectl delete -f iscsi/storageclass.yaml"
   ]
  },
  {
   "cell_type": "code",
   "execution_count": null,
   "metadata": {},
   "outputs": [],
   "source": []
  }
 ],
 "metadata": {
  "kernelspec": {
   "display_name": "Bash",
   "language": "bash",
   "name": "bash"
  },
  "language_info": {
   "codemirror_mode": "shell",
   "file_extension": ".sh",
   "mimetype": "text/x-sh",
   "name": "bash"
  }
 },
 "nbformat": 4,
 "nbformat_minor": 2
}
