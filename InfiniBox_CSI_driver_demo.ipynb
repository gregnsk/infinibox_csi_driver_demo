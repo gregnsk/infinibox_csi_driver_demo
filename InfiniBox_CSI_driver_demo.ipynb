{
 "cells": [
  {
   "cell_type": "markdown",
   "metadata": {},
   "source": [
    "<H1> InfiniBox CSI driver demo </H1>\n",
    "Contact: Gregory Touretsky, @gregnsk"
   ]
  },
  {
   "cell_type": "markdown",
   "metadata": {},
   "source": [
    "<H2> Install the driver using OpenShift Operator </H2>\n",
    "<img src=openshift-operator.png width=50%>"
   ]
  },
  {
   "cell_type": "markdown",
   "metadata": {},
   "source": [
    "<B>Notes</B>\n",
    "<li>Infinidat CSI driver is supported starting from Kubernetes 1.14 (OpenShift 4.2)\n",
    "<li>For earlier versions, customers may use Infinidat Dynamic Provisioner for Kubernetes (supported since Kubernetes 1.6)\n",
    "<li>Kubernetes versions prior to 1.17 (OpenShift 4.4): some of CSI features like snapshots, clones, or raw block volumes might not be supported or enabled by default. Refer to relevant documentation for more details on feature-gate enablement\n",
    "<li>Examples in this document use kubectl command,same commands will work with OpenShift \"oc\" interface\n",
    "<li>Infinidat CSI driver can be installed using Helm Chart or OpenShift Operator"
   ]
  },
  {
   "cell_type": "code",
   "execution_count": 46,
   "metadata": {},
   "outputs": [
    {
     "name": "stdout",
     "output_type": "stream",
     "text": [
      "NAME          STATUS   ROLES    AGE   VERSION\n",
      "gtouret-k51   Ready    master   26d   v1.18.0\n",
      "gtouret-k52   Ready    <none>   26d   v1.18.0\n",
      "io307         Ready    <none>   26d   v1.18.0\n"
     ]
    }
   ],
   "source": [
    "kubectl get nodes"
   ]
  },
  {
   "cell_type": "code",
   "execution_count": 47,
   "metadata": {},
   "outputs": [
    {
     "name": "stdout",
     "output_type": "stream",
     "text": [
      "NAME                       READY   STATUS    RESTARTS   AGE     IP              NODE          NOMINATED NODE   READINESS GATES\n",
      "csi-infinibox-driver-0     5/5     Running   0          7d15h   10.244.2.55     io307         <none>           <none>\n",
      "csi-infinibox-node-85g4t   2/2     Running   0          7d15h   172.20.87.214   gtouret-k51   <none>           <none>\n",
      "csi-infinibox-node-jw9hx   2/2     Running   0          7d15h   172.20.87.99    gtouret-k52   <none>           <none>\n",
      "csi-infinibox-node-qspr4   2/2     Running   0          7d15h   172.20.78.63    io307         <none>           <none>\n"
     ]
    }
   ],
   "source": [
    "# We recommend to install CSI driver in a dedicated namespace. Here it's running in a namespace \"ibox\"\n",
    "# There is a single Controller (csi-infinibox-driver) instance per cluster \n",
    "# and a single Node (csi-infinibox-node) instance per worker node \n",
    "kubectl get pod -n ibox -o wide"
   ]
  },
  {
   "cell_type": "markdown",
   "metadata": {},
   "source": [
    "<H2>Create a storage class <H2>"
   ]
  },
  {
   "cell_type": "code",
   "execution_count": 48,
   "metadata": {},
   "outputs": [
    {
     "name": "stdout",
     "output_type": "stream",
     "text": [
      "apiVersion: storage.k8s.io/v1\n",
      "kind: StorageClass\n",
      "metadata:\n",
      "  name: ibox-storageclass-demo\n",
      "provisioner: infinibox-csi-driver\n",
      "reclaimPolicy: Delete\n",
      "volumeBindingMode: Immediate\n",
      "allowVolumeExpansion: true\n",
      "parameters:\n",
      "    pool_name: k8s_csi\n",
      "    network_space: nas1\n",
      "    provision_type: THIN    \n",
      "    storage_protocol: nfs   \n",
      "    nfs_mount_options: hard,rsize=1048576,wsize=1048576\n",
      "    nfs_export_permissions : \"[{'access':'RW','client':'*','no_root_squash':true}]\"\n",
      "    ssd_enabled: \"true\"\n",
      "    csi.storage.k8s.io/provisioner-secret-name: infinibox-creds\n",
      "    csi.storage.k8s.io/provisioner-secret-namespace: ibox\n",
      "    csi.storage.k8s.io/controller-publish-secret-name: infinibox-creds\n",
      "    csi.storage.k8s.io/controller-publish-secret-namespace: ibox\n",
      "    csi.storage.k8s.io/node-stage-secret-name: infinibox-creds\n",
      "    csi.storage.k8s.io/node-stage-secret-namespace: ibox\n",
      "    csi.storage.k8s.io/node-publish-secret-name: infinibox-creds\n",
      "    csi.storage.k8s.io/node-publish-secret-namespace: ibox\n",
      "    csi.storage.k8s.io/controller-expand-secret-name: infinibox-creds\n",
      "    csi.storage.k8s.io/controller-expand-secret-namespace: ibox\n"
     ]
    }
   ],
   "source": [
    "cat nfs/storageclass.yaml"
   ]
  },
  {
   "cell_type": "code",
   "execution_count": 49,
   "metadata": {},
   "outputs": [
    {
     "name": "stdout",
     "output_type": "stream",
     "text": [
      "storageclass.storage.k8s.io/ibox-storageclass-demo created\n"
     ]
    }
   ],
   "source": [
    "kubectl create -f nfs/storageclass.yaml"
   ]
  },
  {
   "cell_type": "code",
   "execution_count": 50,
   "metadata": {},
   "outputs": [
    {
     "name": "stdout",
     "output_type": "stream",
     "text": [
      "NAME                     PROVISIONER            RECLAIMPOLICY   VOLUMEBINDINGMODE   ALLOWVOLUMEEXPANSION   AGE\n",
      "ibox-storageclass-demo   infinibox-csi-driver   Delete          Immediate           true                   7s\n"
     ]
    }
   ],
   "source": [
    "kubectl get sc ibox-storageclass-demo"
   ]
  },
  {
   "cell_type": "markdown",
   "metadata": {},
   "source": [
    "<H2> Create a Persistent Volume Claim (PVC) </H2>"
   ]
  },
  {
   "cell_type": "code",
   "execution_count": 51,
   "metadata": {},
   "outputs": [
    {
     "name": "stdout",
     "output_type": "stream",
     "text": [
      "apiVersion: v1\n",
      "kind: PersistentVolumeClaim\n",
      "metadata:\n",
      "  name: ibox-pvc-demo\n",
      "  namespace: demo\n",
      "spec:\n",
      "  accessModes:\n",
      "  - ReadWriteMany\n",
      "  resources:\n",
      "    requests:\n",
      "      storage: 1Gi\n",
      "  storageClassName: ibox-storageclass-demo\n"
     ]
    }
   ],
   "source": [
    "cat nfs/pvc.yaml"
   ]
  },
  {
   "cell_type": "code",
   "execution_count": 52,
   "metadata": {},
   "outputs": [
    {
     "name": "stdout",
     "output_type": "stream",
     "text": [
      "persistentvolumeclaim/ibox-pvc-demo created\n"
     ]
    }
   ],
   "source": [
    "kubectl create -f nfs/pvc.yaml"
   ]
  },
  {
   "cell_type": "code",
   "execution_count": 53,
   "metadata": {},
   "outputs": [
    {
     "name": "stdout",
     "output_type": "stream",
     "text": [
      "NAME            STATUS   VOLUME           CAPACITY   ACCESS MODES   STORAGECLASS             AGE\n",
      "ibox-pvc-demo   Bound    csi-376373bc1a   1Gi        RWX            ibox-storageclass-demo   5s\n"
     ]
    }
   ],
   "source": [
    "kubectl get pvc ibox-pvc-demo -n demo"
   ]
  },
  {
   "cell_type": "code",
   "execution_count": 55,
   "metadata": {},
   "outputs": [
    {
     "name": "stdout",
     "output_type": "stream",
     "text": [
      "NAME             CAPACITY   ACCESS MODES   RECLAIM POLICY   STATUS   CLAIM                STORAGECLASS             REASON   AGE\n",
      "csi-376373bc1a   1Gi        RWX            Delete           Bound    demo/ibox-pvc-demo   ibox-storageclass-demo            35s\n"
     ]
    }
   ],
   "source": [
    "kubectl get pv csi-376373bc1a"
   ]
  },
  {
   "cell_type": "markdown",
   "metadata": {},
   "source": [
    "<H2> Create a snapshot class </H2>"
   ]
  },
  {
   "cell_type": "code",
   "execution_count": 56,
   "metadata": {},
   "outputs": [
    {
     "name": "stdout",
     "output_type": "stream",
     "text": [
      "apiVersion: snapshot.storage.k8s.io/v1alpha1\n",
      "kind: VolumeSnapshotClass\n",
      "metadata:\n",
      "  name: ibox-snapshotclass-demo\n",
      "snapshotter: infinibox-csi-driver\n",
      "parameters:\n",
      "  csi.storage.k8s.io/snapshotter-secret-name: infinibox-creds\n",
      "  csi.storage.k8s.io/snapshotter-secret-namespace: ibox\n",
      "\n"
     ]
    }
   ],
   "source": [
    "cat nfs/snapshotclass.yaml"
   ]
  },
  {
   "cell_type": "code",
   "execution_count": 57,
   "metadata": {},
   "outputs": [
    {
     "name": "stdout",
     "output_type": "stream",
     "text": [
      "volumesnapshotclass.snapshot.storage.k8s.io/ibox-snapshotclass-demo created\n"
     ]
    }
   ],
   "source": [
    "kubectl create -f nfs/snapshotclass.yaml"
   ]
  },
  {
   "cell_type": "code",
   "execution_count": 58,
   "metadata": {},
   "outputs": [
    {
     "name": "stdout",
     "output_type": "stream",
     "text": [
      "NAME                      AGE\n",
      "ibox-snapshotclass-demo   4s\n"
     ]
    }
   ],
   "source": [
    "kubectl get volumesnapshotclass"
   ]
  },
  {
   "cell_type": "markdown",
   "metadata": {},
   "source": [
    "<H2> Create a snapshot </H2>"
   ]
  },
  {
   "cell_type": "code",
   "execution_count": 59,
   "metadata": {},
   "outputs": [
    {
     "name": "stdout",
     "output_type": "stream",
     "text": [
      "apiVersion: snapshot.storage.k8s.io/v1alpha1\n",
      "kind: VolumeSnapshot\n",
      "metadata:\n",
      "  name: ibox-pvc-snapshot-demo\n",
      "  namespace: demo\n",
      "spec:\n",
      "  snapshotClassName: ibox-snapshotclass-demo\n",
      "  source:\n",
      "    name: ibox-pvc-demo\n",
      "    kind: PersistentVolumeClaim\n",
      "\n"
     ]
    }
   ],
   "source": [
    "cat nfs/snapshot.yaml"
   ]
  },
  {
   "cell_type": "code",
   "execution_count": 60,
   "metadata": {},
   "outputs": [
    {
     "name": "stdout",
     "output_type": "stream",
     "text": [
      "volumesnapshot.snapshot.storage.k8s.io/ibox-pvc-snapshot-demo created\n"
     ]
    }
   ],
   "source": [
    "kubectl create -f nfs/snapshot.yaml"
   ]
  },
  {
   "cell_type": "code",
   "execution_count": 61,
   "metadata": {},
   "outputs": [
    {
     "name": "stdout",
     "output_type": "stream",
     "text": [
      "NAME                     AGE\n",
      "ibox-pvc-snapshot-demo   5s\n"
     ]
    }
   ],
   "source": [
    "kubectl get volumesnapshot ibox-pvc-snapshot-demo -n demo"
   ]
  },
  {
   "cell_type": "code",
   "execution_count": 62,
   "metadata": {},
   "outputs": [
    {
     "name": "stdout",
     "output_type": "stream",
     "text": [
      "  Snapshot Content Name:  snapcontent-f924517b-b75e-4860-b320-121c381ca60c\n"
     ]
    }
   ],
   "source": [
    "kubectl describe volumesnapshot ibox-pvc-snapshot-demo  -n demo | grep snapcontent"
   ]
  },
  {
   "cell_type": "code",
   "execution_count": 63,
   "metadata": {},
   "outputs": [
    {
     "name": "stdout",
     "output_type": "stream",
     "text": [
      "NAME                                               AGE\n",
      "snapcontent-f924517b-b75e-4860-b320-121c381ca60c   27s\n"
     ]
    }
   ],
   "source": [
    "kubectl get volumesnapshotcontent snapcontent-f924517b-b75e-4860-b320-121c381ca60c"
   ]
  },
  {
   "cell_type": "markdown",
   "metadata": {},
   "source": [
    "<H2> Create a new PVC from the snapshot (restore) </H2>"
   ]
  },
  {
   "cell_type": "code",
   "execution_count": 64,
   "metadata": {},
   "outputs": [
    {
     "name": "stdout",
     "output_type": "stream",
     "text": [
      "apiVersion: v1\n",
      "kind: PersistentVolumeClaim\n",
      "metadata:\n",
      "  name: ibox-snapshot-pvc-restore-demo-2\n",
      "  namespace: demo\n",
      "spec:\n",
      "  storageClassName: ibox-storageclass-demo\n",
      "  dataSource:\n",
      "    name: ibox-pvc-snapshot-demo\n",
      "    kind: VolumeSnapshot\n",
      "    apiGroup: \"snapshot.storage.k8s.io\"\n",
      "  accessModes:\n",
      "    - ReadWriteMany\n",
      "  resources:\n",
      "    requests:\n",
      "      storage: 1Gi\n",
      "\n"
     ]
    }
   ],
   "source": [
    "cat nfs/restoresnapshot.yaml"
   ]
  },
  {
   "cell_type": "code",
   "execution_count": 65,
   "metadata": {},
   "outputs": [
    {
     "name": "stdout",
     "output_type": "stream",
     "text": [
      "persistentvolumeclaim/ibox-snapshot-pvc-restore-demo-2 created\n"
     ]
    }
   ],
   "source": [
    "kubectl create -f nfs/restoresnapshot.yaml"
   ]
  },
  {
   "cell_type": "code",
   "execution_count": 66,
   "metadata": {},
   "outputs": [
    {
     "name": "stdout",
     "output_type": "stream",
     "text": [
      "NAME                               STATUS   VOLUME           CAPACITY   ACCESS MODES   STORAGECLASS             AGE\n",
      "ibox-snapshot-pvc-restore-demo-2   Bound    csi-01e10b9579   1Gi        RWX            ibox-storageclass-demo   5s\n"
     ]
    }
   ],
   "source": [
    "kubectl get pvc ibox-snapshot-pvc-restore-demo-2 -n demo"
   ]
  },
  {
   "cell_type": "markdown",
   "metadata": {},
   "source": [
    "<H2> Create a new PVC from the existing PVC (clone) </H2>"
   ]
  },
  {
   "cell_type": "code",
   "execution_count": 67,
   "metadata": {},
   "outputs": [
    {
     "name": "stdout",
     "output_type": "stream",
     "text": [
      "apiVersion: v1\n",
      "kind: PersistentVolumeClaim\n",
      "metadata:\n",
      "    name: ibox-pvc-clone-demo\n",
      "    namespace: demo\n",
      "spec:\n",
      "  accessModes:\n",
      "  - ReadWriteOnce\n",
      "  storageClassName: ibox-storageclass-demo\n",
      "  resources:\n",
      "    requests:\n",
      "      storage: 1Gi\n",
      "  dataSource:\n",
      "    kind: PersistentVolumeClaim\n",
      "    name: ibox-pvc-demo\n"
     ]
    }
   ],
   "source": [
    "cat nfs/clonepvc.yaml"
   ]
  },
  {
   "cell_type": "code",
   "execution_count": 68,
   "metadata": {},
   "outputs": [
    {
     "name": "stdout",
     "output_type": "stream",
     "text": [
      "persistentvolumeclaim/ibox-pvc-clone-demo created\n"
     ]
    }
   ],
   "source": [
    "kubectl create -f nfs/clonepvc.yaml"
   ]
  },
  {
   "cell_type": "code",
   "execution_count": 69,
   "metadata": {},
   "outputs": [
    {
     "name": "stdout",
     "output_type": "stream",
     "text": [
      "NAME                  STATUS   VOLUME           CAPACITY   ACCESS MODES   STORAGECLASS             AGE\n",
      "ibox-pvc-clone-demo   Bound    csi-af218b82c3   1Gi        RWO            ibox-storageclass-demo   5s\n"
     ]
    }
   ],
   "source": [
    "kubectl get pvc ibox-pvc-clone-demo -n demo"
   ]
  },
  {
   "cell_type": "markdown",
   "metadata": {},
   "source": [
    "<H2> Create a pod with a PVC attached </H2>"
   ]
  },
  {
   "cell_type": "code",
   "execution_count": 70,
   "metadata": {},
   "outputs": [
    {
     "name": "stdout",
     "output_type": "stream",
     "text": [
      "kind: Pod\n",
      "apiVersion: v1\n",
      "metadata:\n",
      "  name: ibox-pod-pvc-demo\n",
      "  namespace: demo\n",
      "spec:\n",
      "  containers:\n",
      "    - name: my-frontend\n",
      "      image: busybox\n",
      "      volumeMounts:\n",
      "      - mountPath: \"/tmp/data\"\n",
      "        name: ibox-csi-volume\n",
      "      command: [ \"sleep\", \"1000\" ]\n",
      "  volumes:\n",
      "    - name: ibox-csi-volume\n",
      "      persistentVolumeClaim:\n",
      "        claimName: ibox-pvc-demo\n"
     ]
    }
   ],
   "source": [
    "cat nfs/app.yaml"
   ]
  },
  {
   "cell_type": "code",
   "execution_count": 71,
   "metadata": {},
   "outputs": [
    {
     "name": "stdout",
     "output_type": "stream",
     "text": [
      "pod/ibox-pod-pvc-demo created\n"
     ]
    }
   ],
   "source": [
    "kubectl create -f nfs/app.yaml"
   ]
  },
  {
   "cell_type": "code",
   "execution_count": 72,
   "metadata": {},
   "outputs": [
    {
     "name": "stdout",
     "output_type": "stream",
     "text": [
      "NAME                READY   STATUS    RESTARTS   AGE\n",
      "ibox-pod-pvc-demo   1/1     Running   0          23s\n"
     ]
    }
   ],
   "source": [
    "kubectl get pod ibox-pod-pvc-demo -n demo"
   ]
  },
  {
   "cell_type": "code",
   "execution_count": 73,
   "metadata": {},
   "outputs": [
    {
     "name": "stdout",
     "output_type": "stream",
     "text": [
      "Filesystem                Size      Used Available Use% Mounted on\n",
      "172.20.37.58:/csi-376373bc1a\n",
      "                          1.0G      1.0M   1023.0M   0% /tmp/data\n"
     ]
    }
   ],
   "source": [
    "kubectl exec -it ibox-pod-pvc-demo -n demo -- df -h /tmp/data"
   ]
  },
  {
   "cell_type": "markdown",
   "metadata": {},
   "source": [
    "<H2>Deploying an application with Helm</H2>\n",
    "helm install mydb --set mysqlRootPassword=secretpassword,mysqlUser=my-user, \\<br>\n",
    "mysqlPassword=my-password,mysqlDatabase=my-database,<b>persistence.storageClass=ibox-storageclass-demo</b>, \\<br>\n",
    "nodeSelector.protocol=iscsi stable/mysql"
   ]
  },
  {
   "cell_type": "markdown",
   "metadata": {},
   "source": [
    "<H2> Clean everything </H2>"
   ]
  },
  {
   "cell_type": "code",
   "execution_count": 74,
   "metadata": {},
   "outputs": [
    {
     "name": "stdout",
     "output_type": "stream",
     "text": [
      "pod \"ibox-pod-pvc-demo\" deleted\n"
     ]
    }
   ],
   "source": [
    "kubectl delete -f nfs/app.yaml"
   ]
  },
  {
   "cell_type": "code",
   "execution_count": 75,
   "metadata": {},
   "outputs": [
    {
     "name": "stdout",
     "output_type": "stream",
     "text": [
      "persistentvolumeclaim \"ibox-pvc-clone-demo\" deleted\n"
     ]
    }
   ],
   "source": [
    "kubectl delete -f nfs/clonepvc.yaml"
   ]
  },
  {
   "cell_type": "code",
   "execution_count": 76,
   "metadata": {},
   "outputs": [
    {
     "name": "stdout",
     "output_type": "stream",
     "text": [
      "persistentvolumeclaim \"ibox-snapshot-pvc-restore-demo-2\" deleted\n"
     ]
    }
   ],
   "source": [
    "kubectl delete -f nfs/restoresnapshot.yaml"
   ]
  },
  {
   "cell_type": "code",
   "execution_count": 77,
   "metadata": {},
   "outputs": [
    {
     "name": "stdout",
     "output_type": "stream",
     "text": [
      "volumesnapshot.snapshot.storage.k8s.io \"ibox-pvc-snapshot-demo\" deleted\n"
     ]
    }
   ],
   "source": [
    "kubectl delete -f nfs/snapshot.yaml"
   ]
  },
  {
   "cell_type": "code",
   "execution_count": 78,
   "metadata": {},
   "outputs": [
    {
     "name": "stdout",
     "output_type": "stream",
     "text": [
      "volumesnapshotclass.snapshot.storage.k8s.io \"ibox-snapshotclass-demo\" deleted\n"
     ]
    }
   ],
   "source": [
    "kubectl delete -f nfs/snapshotclass.yaml"
   ]
  },
  {
   "cell_type": "code",
   "execution_count": 80,
   "metadata": {},
   "outputs": [
    {
     "name": "stdout",
     "output_type": "stream",
     "text": [
      "persistentvolumeclaim \"ibox-pvc-demo\" deleted\n"
     ]
    }
   ],
   "source": [
    "kubectl delete -f nfs/pvc.yaml"
   ]
  },
  {
   "cell_type": "code",
   "execution_count": 81,
   "metadata": {},
   "outputs": [
    {
     "name": "stdout",
     "output_type": "stream",
     "text": [
      "storageclass.storage.k8s.io \"ibox-storageclass-demo\" deleted\n"
     ]
    }
   ],
   "source": [
    "kubectl delete -f nfs/storageclass.yaml"
   ]
  },
  {
   "cell_type": "code",
   "execution_count": null,
   "metadata": {},
   "outputs": [],
   "source": []
  }
 ],
 "metadata": {
  "kernelspec": {
   "display_name": "Bash",
   "language": "bash",
   "name": "bash"
  },
  "language_info": {
   "codemirror_mode": "shell",
   "file_extension": ".sh",
   "mimetype": "text/x-sh",
   "name": "bash"
  }
 },
 "nbformat": 4,
 "nbformat_minor": 2
}
