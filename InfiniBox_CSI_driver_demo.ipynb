{
 "cells": [
  {
   "cell_type": "markdown",
   "metadata": {},
   "source": [
    "<H1> InfiniBox CSI driver demo </H1>\n",
    "Contact: Gregory Touretsky, @gregnsk"
   ]
  },
  {
   "cell_type": "markdown",
   "metadata": {},
   "source": [
    "<H2> Install the driver using OpenShift Operator </H2>\n",
    "<img src=https://github.com/gregnsk/infinibox_csi_driver_demo/blob/master/openshift-operator.png?raw=true width=50%>"
   ]
  },
  {
   "cell_type": "markdown",
   "metadata": {},
   "source": [
    "<B>Notes</B>\n",
    "<li>Infinidat CSI driver is supported starting from Kubernetes 1.14 (OpenShift 4.2)\n",
    "<li>For earlier versions, customers may use Infinidat Dynamic Provisioner for Kubernetes (supported since Kubernetes 1.6)\n",
    "<li>Kubernetes versions prior to 1.17 (OpenShift 4.4): some of CSI features like snapshots, clones, or raw block volumes might not be supported or enabled by default. Refer to relevant documentation for more details on feature-gate enablement\n",
    "<li>Examples in this document use kubectl command,same commands will work with OpenShift \"oc\" interface\n",
    "<li>Infinidat CSI driver can be installed using Helm Chart or OpenShift Operator"
   ]
  },
  {
   "cell_type": "code",
   "execution_count": 1,
   "metadata": {},
   "outputs": [
    {
     "name": "stdout",
     "output_type": "stream",
     "text": [
      "NAME          STATUS   ROLES    AGE   VERSION\n",
      "gtouret-k51   Ready    master   31d   v1.18.0\n",
      "gtouret-k52   Ready    <none>   31d   v1.18.0\n",
      "io307         Ready    <none>   31d   v1.18.0\n"
     ]
    }
   ],
   "source": [
    "kubectl get nodes"
   ]
  },
  {
   "cell_type": "code",
   "execution_count": 2,
   "metadata": {},
   "outputs": [
    {
     "name": "stdout",
     "output_type": "stream",
     "text": [
      "NAME                       READY   STATUS    RESTARTS   AGE   IP              NODE          NOMINATED NODE   READINESS GATES\n",
      "csi-infinibox-driver-0     5/5     Running   0          12d   10.244.2.55     io307         <none>           <none>\n",
      "csi-infinibox-node-85g4t   2/2     Running   0          12d   172.20.87.214   gtouret-k51   <none>           <none>\n",
      "csi-infinibox-node-jw9hx   2/2     Running   0          12d   172.20.87.99    gtouret-k52   <none>           <none>\n",
      "csi-infinibox-node-qspr4   2/2     Running   0          12d   172.20.78.63    io307         <none>           <none>\n"
     ]
    }
   ],
   "source": [
    "# We recommend to install CSI driver in a dedicated namespace. Here it's running in a namespace \"ibox\"\n",
    "# There is a single Controller (csi-infinibox-driver) instance per cluster \n",
    "# and a single Node (csi-infinibox-node) instance per worker node \n",
    "kubectl get pod -n ibox -o wide"
   ]
  },
  {
   "cell_type": "markdown",
   "metadata": {},
   "source": [
    "<H2>Create a storage class <H2>"
   ]
  },
  {
   "cell_type": "code",
   "execution_count": 1,
   "metadata": {},
   "outputs": [
    {
     "name": "stdout",
     "output_type": "stream",
     "text": [
      "apiVersion: storage.k8s.io/v1\n",
      "kind: StorageClass\n",
      "metadata:\n",
      "  name: ibox-storageclass-demo\n",
      "provisioner: infinibox-csi-driver\n",
      "reclaimPolicy: Delete\n",
      "volumeBindingMode: Immediate\n",
      "allowVolumeExpansion: true\n",
      "parameters:\n",
      "    pool_name: k8s_csi\n",
      "    network_space: nas1\n",
      "    provision_type: THIN    \n",
      "    storage_protocol: nfs   \n",
      "    nfs_mount_options: hard,rsize=1048576,wsize=1048576\n",
      "    nfs_export_permissions : \"[{'access':'RW','client':'*','no_root_squash':true}]\"\n",
      "    ssd_enabled: \"true\"\n",
      "    csi.storage.k8s.io/provisioner-secret-name: infinibox-creds\n",
      "    csi.storage.k8s.io/provisioner-secret-namespace: ibox\n",
      "    csi.storage.k8s.io/controller-publish-secret-name: infinibox-creds\n",
      "    csi.storage.k8s.io/controller-publish-secret-namespace: ibox\n",
      "    csi.storage.k8s.io/node-stage-secret-name: infinibox-creds\n",
      "    csi.storage.k8s.io/node-stage-secret-namespace: ibox\n",
      "    csi.storage.k8s.io/node-publish-secret-name: infinibox-creds\n",
      "    csi.storage.k8s.io/node-publish-secret-namespace: ibox\n",
      "    csi.storage.k8s.io/controller-expand-secret-name: infinibox-creds\n",
      "    csi.storage.k8s.io/controller-expand-secret-namespace: ibox\n"
     ]
    }
   ],
   "source": [
    "cat nfs/storageclass.yaml"
   ]
  },
  {
   "cell_type": "code",
   "execution_count": 2,
   "metadata": {},
   "outputs": [
    {
     "name": "stdout",
     "output_type": "stream",
     "text": [
      "storageclass.storage.k8s.io/ibox-storageclass-demo created\n"
     ]
    }
   ],
   "source": [
    "kubectl create -f nfs/storageclass.yaml"
   ]
  },
  {
   "cell_type": "code",
   "execution_count": 3,
   "metadata": {},
   "outputs": [
    {
     "name": "stdout",
     "output_type": "stream",
     "text": [
      "NAME                     PROVISIONER            RECLAIMPOLICY   VOLUMEBINDINGMODE   ALLOWVOLUMEEXPANSION   AGE\n",
      "ibox-storageclass-demo   infinibox-csi-driver   Delete          Immediate           true                   4s\n"
     ]
    }
   ],
   "source": [
    "kubectl get sc ibox-storageclass-demo"
   ]
  },
  {
   "cell_type": "markdown",
   "metadata": {},
   "source": [
    "<H2> Create a Persistent Volume Claim (PVC) </H2>"
   ]
  },
  {
   "cell_type": "code",
   "execution_count": 4,
   "metadata": {},
   "outputs": [
    {
     "name": "stdout",
     "output_type": "stream",
     "text": [
      "apiVersion: v1\n",
      "kind: PersistentVolumeClaim\n",
      "metadata:\n",
      "  name: ibox-pvc-demo\n",
      "  namespace: demo\n",
      "spec:\n",
      "  accessModes:\n",
      "  - ReadWriteMany\n",
      "  resources:\n",
      "    requests:\n",
      "      storage: 1Gi\n",
      "  storageClassName: ibox-storageclass-demo\n"
     ]
    }
   ],
   "source": [
    "cat nfs/pvc.yaml"
   ]
  },
  {
   "cell_type": "code",
   "execution_count": 5,
   "metadata": {},
   "outputs": [
    {
     "name": "stdout",
     "output_type": "stream",
     "text": [
      "persistentvolumeclaim/ibox-pvc-demo created\n"
     ]
    }
   ],
   "source": [
    "kubectl create -f nfs/pvc.yaml"
   ]
  },
  {
   "cell_type": "code",
   "execution_count": 6,
   "metadata": {},
   "outputs": [
    {
     "name": "stdout",
     "output_type": "stream",
     "text": [
      "NAME            STATUS   VOLUME           CAPACITY   ACCESS MODES   STORAGECLASS             AGE\n",
      "ibox-pvc-demo   Bound    csi-5c126d9990   1Gi        RWX            ibox-storageclass-demo   3s\n"
     ]
    }
   ],
   "source": [
    "kubectl get pvc ibox-pvc-demo -n demo"
   ]
  },
  {
   "cell_type": "code",
   "execution_count": 7,
   "metadata": {},
   "outputs": [
    {
     "name": "stdout",
     "output_type": "stream",
     "text": [
      "NAME             CAPACITY   ACCESS MODES   RECLAIM POLICY   STATUS   CLAIM                STORAGECLASS             REASON   AGE\n",
      "csi-5c126d9990   1Gi        RWX            Delete           Bound    demo/ibox-pvc-demo   ibox-storageclass-demo            14s\n"
     ]
    }
   ],
   "source": [
    "kubectl get pv csi-5c126d9990"
   ]
  },
  {
   "cell_type": "markdown",
   "metadata": {},
   "source": [
    "<H2> Create a snapshot class </H2>"
   ]
  },
  {
   "cell_type": "code",
   "execution_count": 8,
   "metadata": {},
   "outputs": [
    {
     "name": "stdout",
     "output_type": "stream",
     "text": [
      "apiVersion: snapshot.storage.k8s.io/v1alpha1\n",
      "kind: VolumeSnapshotClass\n",
      "metadata:\n",
      "  name: ibox-snapshotclass-demo\n",
      "snapshotter: infinibox-csi-driver\n",
      "parameters:\n",
      "  csi.storage.k8s.io/snapshotter-secret-name: infinibox-creds\n",
      "  csi.storage.k8s.io/snapshotter-secret-namespace: ibox\n",
      "\n"
     ]
    }
   ],
   "source": [
    "cat nfs/snapshotclass.yaml"
   ]
  },
  {
   "cell_type": "code",
   "execution_count": 9,
   "metadata": {},
   "outputs": [
    {
     "name": "stdout",
     "output_type": "stream",
     "text": [
      "volumesnapshotclass.snapshot.storage.k8s.io/ibox-snapshotclass-demo created\n"
     ]
    }
   ],
   "source": [
    "kubectl create -f nfs/snapshotclass.yaml"
   ]
  },
  {
   "cell_type": "code",
   "execution_count": 10,
   "metadata": {},
   "outputs": [
    {
     "name": "stdout",
     "output_type": "stream",
     "text": [
      "NAME                      AGE\n",
      "ibox-snapshotclass-demo   3s\n"
     ]
    }
   ],
   "source": [
    "kubectl get volumesnapshotclass"
   ]
  },
  {
   "cell_type": "markdown",
   "metadata": {},
   "source": [
    "<H2> Create a snapshot </H2>"
   ]
  },
  {
   "cell_type": "code",
   "execution_count": 11,
   "metadata": {},
   "outputs": [
    {
     "name": "stdout",
     "output_type": "stream",
     "text": [
      "apiVersion: snapshot.storage.k8s.io/v1alpha1\n",
      "kind: VolumeSnapshot\n",
      "metadata:\n",
      "  name: ibox-pvc-snapshot-demo\n",
      "  namespace: demo\n",
      "spec:\n",
      "  snapshotClassName: ibox-snapshotclass-demo\n",
      "  source:\n",
      "    name: ibox-pvc-demo\n",
      "    kind: PersistentVolumeClaim\n",
      "\n"
     ]
    }
   ],
   "source": [
    "cat nfs/snapshot.yaml"
   ]
  },
  {
   "cell_type": "code",
   "execution_count": 12,
   "metadata": {},
   "outputs": [
    {
     "name": "stdout",
     "output_type": "stream",
     "text": [
      "volumesnapshot.snapshot.storage.k8s.io/ibox-pvc-snapshot-demo created\n"
     ]
    }
   ],
   "source": [
    "kubectl create -f nfs/snapshot.yaml"
   ]
  },
  {
   "cell_type": "code",
   "execution_count": 13,
   "metadata": {},
   "outputs": [
    {
     "name": "stdout",
     "output_type": "stream",
     "text": [
      "NAME                     AGE\n",
      "ibox-pvc-snapshot-demo   3s\n"
     ]
    }
   ],
   "source": [
    "kubectl get volumesnapshot ibox-pvc-snapshot-demo -n demo"
   ]
  },
  {
   "cell_type": "code",
   "execution_count": 14,
   "metadata": {},
   "outputs": [
    {
     "name": "stdout",
     "output_type": "stream",
     "text": [
      "  Snapshot Content Name:  snapcontent-53237985-7221-4db7-89d2-a26fe8648423\n"
     ]
    }
   ],
   "source": [
    "kubectl describe volumesnapshot ibox-pvc-snapshot-demo  -n demo | grep snapcontent"
   ]
  },
  {
   "cell_type": "code",
   "execution_count": 16,
   "metadata": {},
   "outputs": [
    {
     "name": "stdout",
     "output_type": "stream",
     "text": [
      "NAME                                               AGE\n",
      "snapcontent-53237985-7221-4db7-89d2-a26fe8648423   21s\n"
     ]
    }
   ],
   "source": [
    "kubectl get volumesnapshotcontent snapcontent-53237985-7221-4db7-89d2-a26fe8648423"
   ]
  },
  {
   "cell_type": "markdown",
   "metadata": {},
   "source": [
    "<H2> Create a new PVC from the snapshot (restore) </H2>"
   ]
  },
  {
   "cell_type": "code",
   "execution_count": 17,
   "metadata": {},
   "outputs": [
    {
     "name": "stdout",
     "output_type": "stream",
     "text": [
      "apiVersion: v1\n",
      "kind: PersistentVolumeClaim\n",
      "metadata:\n",
      "  name: ibox-snapshot-pvc-restore-demo-2\n",
      "  namespace: demo\n",
      "spec:\n",
      "  storageClassName: ibox-storageclass-demo\n",
      "  dataSource:\n",
      "    name: ibox-pvc-snapshot-demo\n",
      "    kind: VolumeSnapshot\n",
      "    apiGroup: \"snapshot.storage.k8s.io\"\n",
      "  accessModes:\n",
      "    - ReadWriteMany\n",
      "  resources:\n",
      "    requests:\n",
      "      storage: 1Gi\n",
      "\n"
     ]
    }
   ],
   "source": [
    "cat nfs/restoresnapshot.yaml"
   ]
  },
  {
   "cell_type": "code",
   "execution_count": 18,
   "metadata": {},
   "outputs": [
    {
     "name": "stdout",
     "output_type": "stream",
     "text": [
      "persistentvolumeclaim/ibox-snapshot-pvc-restore-demo-2 created\n"
     ]
    }
   ],
   "source": [
    "kubectl create -f nfs/restoresnapshot.yaml"
   ]
  },
  {
   "cell_type": "code",
   "execution_count": 19,
   "metadata": {},
   "outputs": [
    {
     "name": "stdout",
     "output_type": "stream",
     "text": [
      "NAME                               STATUS   VOLUME           CAPACITY   ACCESS MODES   STORAGECLASS             AGE\n",
      "ibox-snapshot-pvc-restore-demo-2   Bound    csi-e65dbf6d86   1Gi        RWX            ibox-storageclass-demo   3s\n"
     ]
    }
   ],
   "source": [
    "kubectl get pvc ibox-snapshot-pvc-restore-demo-2 -n demo"
   ]
  },
  {
   "cell_type": "markdown",
   "metadata": {},
   "source": [
    "<H2> Create a new PVC from the existing PVC (clone) </H2>"
   ]
  },
  {
   "cell_type": "code",
   "execution_count": 20,
   "metadata": {},
   "outputs": [
    {
     "name": "stdout",
     "output_type": "stream",
     "text": [
      "apiVersion: v1\n",
      "kind: PersistentVolumeClaim\n",
      "metadata:\n",
      "    name: ibox-pvc-clone-demo\n",
      "    namespace: demo\n",
      "spec:\n",
      "  accessModes:\n",
      "  - ReadWriteOnce\n",
      "  storageClassName: ibox-storageclass-demo\n",
      "  resources:\n",
      "    requests:\n",
      "      storage: 1Gi\n",
      "  dataSource:\n",
      "    kind: PersistentVolumeClaim\n",
      "    name: ibox-pvc-demo\n"
     ]
    }
   ],
   "source": [
    "cat nfs/clonepvc.yaml"
   ]
  },
  {
   "cell_type": "code",
   "execution_count": 21,
   "metadata": {},
   "outputs": [
    {
     "name": "stdout",
     "output_type": "stream",
     "text": [
      "persistentvolumeclaim/ibox-pvc-clone-demo created\n"
     ]
    }
   ],
   "source": [
    "kubectl create -f nfs/clonepvc.yaml"
   ]
  },
  {
   "cell_type": "code",
   "execution_count": 22,
   "metadata": {},
   "outputs": [
    {
     "name": "stdout",
     "output_type": "stream",
     "text": [
      "NAME                  STATUS   VOLUME           CAPACITY   ACCESS MODES   STORAGECLASS             AGE\n",
      "ibox-pvc-clone-demo   Bound    csi-5f3edabbfa   1Gi        RWO            ibox-storageclass-demo   4s\n"
     ]
    }
   ],
   "source": [
    "kubectl get pvc ibox-pvc-clone-demo -n demo"
   ]
  },
  {
   "cell_type": "markdown",
   "metadata": {},
   "source": [
    "<H2> Create a pod with a PVC attached </H2>"
   ]
  },
  {
   "cell_type": "code",
   "execution_count": 23,
   "metadata": {},
   "outputs": [
    {
     "name": "stdout",
     "output_type": "stream",
     "text": [
      "kind: Pod\n",
      "apiVersion: v1\n",
      "metadata:\n",
      "  name: ibox-pod-pvc-demo\n",
      "  namespace: demo\n",
      "spec:\n",
      "  containers:\n",
      "    - name: my-frontend\n",
      "      image: busybox\n",
      "      volumeMounts:\n",
      "      - mountPath: \"/tmp/data\"\n",
      "        name: ibox-csi-volume\n",
      "      command: [ \"sleep\", \"1000\" ]\n",
      "  volumes:\n",
      "    - name: ibox-csi-volume\n",
      "      persistentVolumeClaim:\n",
      "        claimName: ibox-pvc-demo\n"
     ]
    }
   ],
   "source": [
    "cat nfs/app.yaml"
   ]
  },
  {
   "cell_type": "code",
   "execution_count": 24,
   "metadata": {},
   "outputs": [
    {
     "name": "stdout",
     "output_type": "stream",
     "text": [
      "pod/ibox-pod-pvc-demo created\n"
     ]
    }
   ],
   "source": [
    "kubectl create -f nfs/app.yaml"
   ]
  },
  {
   "cell_type": "code",
   "execution_count": 27,
   "metadata": {},
   "outputs": [
    {
     "name": "stdout",
     "output_type": "stream",
     "text": [
      "NAME                READY   STATUS    RESTARTS   AGE\n",
      "ibox-pod-pvc-demo   1/1     Running   0          16s\n"
     ]
    }
   ],
   "source": [
    "kubectl get pod ibox-pod-pvc-demo -n demo"
   ]
  },
  {
   "cell_type": "code",
   "execution_count": 28,
   "metadata": {},
   "outputs": [
    {
     "name": "stdout",
     "output_type": "stream",
     "text": [
      "Filesystem                Size      Used Available Use% Mounted on\n",
      "172.20.37.53:/csi-5c126d9990\n",
      "                          1.0G      1.0M   1023.0M   0% /tmp/data\n"
     ]
    }
   ],
   "source": [
    "kubectl exec -it ibox-pod-pvc-demo -n demo -- df -h /tmp/data"
   ]
  },
  {
   "cell_type": "markdown",
   "metadata": {},
   "source": [
    "<H2>Deploying mySQL server with Helm using InfiniBox CSI driver for iSCSI</H2>"
   ]
  },
  {
   "cell_type": "code",
   "execution_count": 37,
   "metadata": {},
   "outputs": [
    {
     "name": "stdout",
     "output_type": "stream",
     "text": [
      "apiVersion: storage.k8s.io/v1\n",
      "kind: StorageClass\n",
      "metadata:\n",
      "  name: ibox-iscsi-storageclass-demo\n",
      "provisioner: infinibox-csi-driver\n",
      "reclaimPolicy: Delete\n",
      "volumeBindingMode: Immediate\n",
      "allowVolumeExpansion: true\n",
      "parameters:\n",
      "  csi.storage.k8s.io/provisioner-secret-name: infinibox-creds\n",
      "  csi.storage.k8s.io/provisioner-secret-namespace: ibox\n",
      "  csi.storage.k8s.io/controller-publish-secret-name: infinibox-creds\n",
      "  csi.storage.k8s.io/controller-publish-secret-namespace: ibox\n",
      "  csi.storage.k8s.io/node-stage-secret-name: infinibox-creds\n",
      "  csi.storage.k8s.io/node-stage-secret-namespace: ibox\n",
      "  csi.storage.k8s.io/node-publish-secret-name: infinibox-creds\n",
      "  csi.storage.k8s.io/node-publish-secret-namespace: ibox\n",
      "  csi.storage.k8s.io/controller-expand-secret-name: infinibox-creds\n",
      "  csi.storage.k8s.io/controller-expand-secret-namespace: ibox\n",
      "  useCHAP: \"mutual_chap\" # none / chap / mutual_chap\n",
      "  fstype: ext4\n",
      "  pool_name: \"k8s_csi\"\n",
      "  network_space: \"iscsi1\"\n",
      "  provision_type: \"THIN\"\n",
      "  storage_protocol: \"iscsi\"\n",
      "  ssd_enabled: \"true\"\n",
      "  max_vols_per_host: \"50\"\n"
     ]
    }
   ],
   "source": [
    "cat iscsi/storageclass.yaml"
   ]
  },
  {
   "cell_type": "code",
   "execution_count": 38,
   "metadata": {},
   "outputs": [
    {
     "name": "stdout",
     "output_type": "stream",
     "text": [
      "storageclass.storage.k8s.io/ibox-iscsi-storageclass-demo created\n"
     ]
    }
   ],
   "source": [
    "kubectl create -f iscsi/storageclass.yaml"
   ]
  },
  {
   "cell_type": "code",
   "execution_count": 43,
   "metadata": {},
   "outputs": [
    {
     "name": "stdout",
     "output_type": "stream",
     "text": [
      "NAME: mysqldemo\n",
      "LAST DEPLOYED: Tue May  5 11:37:41 2020\n",
      "NAMESPACE: default\n",
      "STATUS: deployed\n",
      "REVISION: 1\n",
      "NOTES:\n",
      "MySQL can be accessed via port 3306 on the following DNS name from within your cluster:\n",
      "mysqldemo.default.svc.cluster.local\n",
      "\n",
      "To get your root password run:\n",
      "\n",
      "    MYSQL_ROOT_PASSWORD=$(kubectl get secret --namespace default mysqldemo -o jsonpath=\"{.data.mysql-root-password}\" | base64 --decode; echo)\n",
      "\n",
      "To connect to your database:\n",
      "\n",
      "1. Run an Ubuntu pod that you can use as a client:\n",
      "\n",
      "    kubectl run -i --tty ubuntu --image=ubuntu:16.04 --restart=Never -- bash -il\n",
      "\n",
      "2. Install the mysql client:\n",
      "\n",
      "    $ apt-get update && apt-get install mysql-client -y\n",
      "\n",
      "3. Connect using the mysql cli, then provide your password:\n",
      "    $ mysql -h mysqldemo -p\n",
      "\n",
      "To connect to your database directly from outside the K8s cluster:\n",
      "    MYSQL_HOST=127.0.0.1\n",
      "    MYSQL_PORT=3306\n",
      "\n",
      "    # Execute the following command to route the connection:\n",
      "    kubectl port-forward svc/mysqldemo 3306\n",
      "\n",
      "    mysql -h ${MYSQL_HOST} -P${MYSQL_PORT} -u root -p${MYSQL_ROOT_PASSWORD}\n"
     ]
    }
   ],
   "source": [
    "helm install mysqldemo --set persistence.storageClass=ibox-iscsi-storageclass-demo,nodeSelector.protocol=iscsi stable/mysql"
   ]
  },
  {
   "cell_type": "code",
   "execution_count": 44,
   "metadata": {},
   "outputs": [
    {
     "name": "stdout",
     "output_type": "stream",
     "text": [
      "NAME        READY   UP-TO-DATE   AVAILABLE   AGE\n",
      "mysqldemo   1/1     1            1           32s\n"
     ]
    }
   ],
   "source": [
    "kubectl get deployment mysqldemo"
   ]
  },
  {
   "cell_type": "code",
   "execution_count": 48,
   "metadata": {},
   "outputs": [
    {
     "name": "stdout",
     "output_type": "stream",
     "text": [
      "NAME        STATUS   VOLUME           CAPACITY   ACCESS MODES   STORAGECLASS                   AGE\n",
      "mysqldemo   Bound    csi-12e5e6a266   8Gi        RWO            ibox-iscsi-storageclass-demo   95s\n"
     ]
    }
   ],
   "source": [
    "kubectl get pvc mysqldemo"
   ]
  },
  {
   "cell_type": "code",
   "execution_count": 51,
   "metadata": {},
   "outputs": [
    {
     "name": "stdout",
     "output_type": "stream",
     "text": [
      "Filesystem          1K-blocks   Used Available Use% Mounted on\n",
      "/dev/mapper/mpathdn   8191416 251852   7923180   4% /var/lib/mysql\n"
     ]
    }
   ],
   "source": [
    "POD=`kubectl get pod | grep mysqldemo | awk '{print $1}'`\n",
    "kubectl exec -it $POD -- df /var/lib/mysql"
   ]
  },
  {
   "cell_type": "markdown",
   "metadata": {},
   "source": [
    "<H2> Clean everything </H2>"
   ]
  },
  {
   "cell_type": "code",
   "execution_count": 52,
   "metadata": {},
   "outputs": [
    {
     "name": "stdout",
     "output_type": "stream",
     "text": [
      "release \"mysqldemo\" uninstalled\n"
     ]
    }
   ],
   "source": [
    "helm uninstall mysqldemo"
   ]
  },
  {
   "cell_type": "code",
   "execution_count": 53,
   "metadata": {},
   "outputs": [
    {
     "name": "stdout",
     "output_type": "stream",
     "text": [
      "pod \"ibox-pod-pvc-demo\" deleted\n"
     ]
    }
   ],
   "source": [
    "kubectl delete -f nfs/app.yaml"
   ]
  },
  {
   "cell_type": "code",
   "execution_count": 54,
   "metadata": {},
   "outputs": [
    {
     "name": "stdout",
     "output_type": "stream",
     "text": [
      "persistentvolumeclaim \"ibox-pvc-clone-demo\" deleted\n"
     ]
    }
   ],
   "source": [
    "kubectl delete -f nfs/clonepvc.yaml"
   ]
  },
  {
   "cell_type": "code",
   "execution_count": 55,
   "metadata": {},
   "outputs": [
    {
     "name": "stdout",
     "output_type": "stream",
     "text": [
      "persistentvolumeclaim \"ibox-snapshot-pvc-restore-demo-2\" deleted\n"
     ]
    }
   ],
   "source": [
    "kubectl delete -f nfs/restoresnapshot.yaml"
   ]
  },
  {
   "cell_type": "code",
   "execution_count": 56,
   "metadata": {},
   "outputs": [
    {
     "name": "stdout",
     "output_type": "stream",
     "text": [
      "volumesnapshot.snapshot.storage.k8s.io \"ibox-pvc-snapshot-demo\" deleted\n"
     ]
    }
   ],
   "source": [
    "kubectl delete -f nfs/snapshot.yaml"
   ]
  },
  {
   "cell_type": "code",
   "execution_count": 57,
   "metadata": {},
   "outputs": [
    {
     "name": "stdout",
     "output_type": "stream",
     "text": [
      "volumesnapshotclass.snapshot.storage.k8s.io \"ibox-snapshotclass-demo\" deleted\n"
     ]
    }
   ],
   "source": [
    "kubectl delete -f nfs/snapshotclass.yaml"
   ]
  },
  {
   "cell_type": "code",
   "execution_count": 58,
   "metadata": {},
   "outputs": [
    {
     "name": "stdout",
     "output_type": "stream",
     "text": [
      "persistentvolumeclaim \"ibox-pvc-demo\" deleted\n"
     ]
    }
   ],
   "source": [
    "kubectl delete -f nfs/pvc.yaml"
   ]
  },
  {
   "cell_type": "code",
   "execution_count": 59,
   "metadata": {},
   "outputs": [
    {
     "name": "stdout",
     "output_type": "stream",
     "text": [
      "storageclass.storage.k8s.io \"ibox-storageclass-demo\" deleted\n"
     ]
    }
   ],
   "source": [
    "kubectl delete -f nfs/storageclass.yaml"
   ]
  },
  {
   "cell_type": "code",
   "execution_count": 60,
   "metadata": {},
   "outputs": [
    {
     "name": "stdout",
     "output_type": "stream",
     "text": [
      "storageclass.storage.k8s.io \"ibox-iscsi-storageclass-demo\" deleted\n"
     ]
    }
   ],
   "source": [
    "kubectl delete -f iscsi/storageclass.yaml"
   ]
  },
  {
   "cell_type": "code",
   "execution_count": null,
   "metadata": {},
   "outputs": [],
   "source": []
  }
 ],
 "metadata": {
  "kernelspec": {
   "display_name": "Bash",
   "language": "bash",
   "name": "bash"
  },
  "language_info": {
   "codemirror_mode": "shell",
   "file_extension": ".sh",
   "mimetype": "text/x-sh",
   "name": "bash"
  }
 },
 "nbformat": 4,
 "nbformat_minor": 2
}
